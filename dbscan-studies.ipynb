{
 "cells": [
  {
   "cell_type": "code",
   "execution_count": null,
   "metadata": {},
   "outputs": [],
   "source": [
    "import pandas as pd\n",
    "import numpy as np\n",
    "import pylab as pl\n",
    "\n",
    "from llckbdm.llckbdm import _cluster_line_lists,_transform_line_lists, llc_kbdm, iterative_llc_kbdm\n",
    "from llckbdm.sampling import filter_samples\n",
    "from llckbdm.min_rmse_kbdm import min_rmse_kbdm\n",
    "from llckbdm.sig_gen import multi_fid, gen_t_freq_arrays"
   ]
  },
  {
   "cell_type": "code",
   "execution_count": null,
   "metadata": {
    "scrolled": true
   },
   "outputs": [],
   "source": [
    "columns = ['amplitude', 't2', 'frequency', 'phase']\n",
    "\n",
    "df = pd.read_csv(\n",
    "    'data/params_brain_sim_1_5T.csv',\n",
    "    names=columns\n",
    ")"
   ]
  },
  {
   "cell_type": "code",
   "execution_count": null,
   "metadata": {},
   "outputs": [],
   "source": [
    "dwell = 5e-4\n",
    "N = 2048\n",
    "params = df.as_matrix()\n",
    "\n",
    "t_array, freq_array = gen_t_freq_arrays(N, dwell)\n",
    "\n",
    "data_raw = multi_fid(t_array, params)"
   ]
  },
  {
   "cell_type": "code",
   "execution_count": null,
   "metadata": {},
   "outputs": [],
   "source": [
    "df = df.sort_values(['frequency'])\n",
    "df['gamma'] = 1/df['t2']\n",
    "df['phase_deg'] = df['phase'] * 180 / np.pi\n",
    "df"
   ]
  },
  {
   "cell_type": "code",
   "execution_count": null,
   "metadata": {
    "scrolled": true
   },
   "outputs": [],
   "source": [
    "%matplotlib inline\n",
    "noise = 0.03 * (np.random.randn(N) + 1j * np.random.randn(N))\n",
    "\n",
    "data = data_raw + noise\n",
    "\n",
    "#data[:4] += 1 * (np.random.randn(4) + 1j * np.random.randn(4))\n",
    "\n",
    "pl.plot(data)\n",
    "pl.show()"
   ]
  },
  {
   "cell_type": "code",
   "execution_count": null,
   "metadata": {},
   "outputs": [],
   "source": [
    "data_fft = np.fft.fftshift(np.fft.fft(data)) / np.sqrt(N)\n",
    "data_fft_raw = np.fft.fftshift(np.fft.fft(data_raw)) / np.sqrt(N)\n",
    "\n",
    "pl.plot(freq_array, data_fft.real)\n",
    "pl.plot(freq_array, data_fft_raw.real)\n",
    "pl.plot(freq_array, data_fft.real - data_fft_raw.real )\n",
    "\n",
    "pl.xlim(-100, 750)\n",
    "pl.show()"
   ]
  },
  {
   "cell_type": "code",
   "execution_count": null,
   "metadata": {
    "scrolled": true
   },
   "outputs": [],
   "source": [
    "m_range = range(200, 500, 10)\n",
    "result = iterative_llc_kbdm(\n",
    "    data=data, \n",
    "    dwell=dwell, \n",
    "    m_range=m_range, \n",
    "    p=4, \n",
    "    gep_solver='svd', \n",
    "    l=30, \n",
    "    q=0, \n",
    "    max_iterations=20, silhouette_threshold=0.92\n",
    ")"
   ]
  },
  {
   "cell_type": "code",
   "execution_count": null,
   "metadata": {},
   "outputs": [],
   "source": [
    "df_final_est = pd.DataFrame(data=result.line_list, columns=columns)\n",
    "df_final_est['silhouete'] = np.concatenate(result.silhouettes)\n",
    "df_final_est['gamma'] = 1 / df_final_est['t2']\n",
    "df_final_est['phase_deg'] = df_final_est['phase'] * 180 / np.pi\n",
    "df_final_est.sort_values(by='frequency', inplace=True, ascending=False)\n",
    "df_final_est = df_final_est[(df_final_est['silhouete'] > 0.6) & (df_final_est['amplitude'] > 0.00)]\n",
    "df_final_est = df_final_est[(df_final_est['frequency'] > 300) & (df_final_est['frequency'] < 450)]\n",
    "#df_final_est.head()\n",
    "df_final_est"
   ]
  },
  {
   "cell_type": "code",
   "execution_count": null,
   "metadata": {},
   "outputs": [],
   "source": [
    "len(df_final_est)"
   ]
  },
  {
   "cell_type": "code",
   "execution_count": null,
   "metadata": {
    "scrolled": true
   },
   "outputs": [],
   "source": [
    "%matplotlib notebook\n",
    "%matplotlib notebook\n",
    "%matplotlib notebook\n",
    "\n",
    "params_res_est = df_final_est.as_matrix()[:,0:4]\n",
    "\n",
    "data_res_est = multi_fid(t_array, params_res_est)\n",
    "data_fft_res_est = np.fft.fftshift(np.fft.fft(data_res_est)) / np.sqrt(N)\n",
    "\n",
    "pl.plot(freq_array, data_fft.real)\n",
    "\n",
    "# raw\n",
    "pl.plot(freq_array, data_fft_raw.real, '--', 'green')\n",
    "\n",
    "# estimatated\n",
    "pl.plot(freq_array, data_fft_res_est.real, 'black')\n",
    "\n",
    "# true residue\n",
    "pl.plot(freq_array, data_fft_res_est.real - data_fft_raw.real, 'red')\n",
    "\n",
    "pl.xlim(-100, 750)\n",
    "\n",
    "pl.show()"
   ]
  }
 ],
 "metadata": {
  "kernelspec": {
   "display_name": "Python 3",
   "language": "python",
   "name": "python3"
  },
  "language_info": {
   "codemirror_mode": {
    "name": "ipython",
    "version": 3
   },
   "file_extension": ".py",
   "mimetype": "text/x-python",
   "name": "python",
   "nbconvert_exporter": "python",
   "pygments_lexer": "ipython3",
   "version": "3.6.5"
  }
 },
 "nbformat": 4,
 "nbformat_minor": 2
}
